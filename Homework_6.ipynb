{
 "cells": [
  {
   "cell_type": "markdown",
   "metadata": {},
   "source": [
    "\n",
    "\n",
    "Please always annualize all Sharpe Ratios in all the following questions"
   ]
  },
  {
   "cell_type": "markdown",
   "metadata": {},
   "source": [
    "\n",
    "\n",
    "\n",
    "### 1. \n",
    "\n",
    "In order to proceed you need Microsoft Excel and file \"url='https://www.dropbox.com/s/5ztd2mdq6dn7cqj/crsp19632017.csv?dl=1'\". \n",
    "(also in blackboard)\n",
    "\n",
    "Start by importing the data, parsing the date appropriate, and organizing the data set as we did in notebook 7\n",
    "\n",
    "\n",
    "Using the momentum code we have in notebook 6B as a starting point, I would like you to make it a general function that takes the following parameters as inputs\n",
    "\n",
    "   - lookback period \n",
    "   - how many months to skip between signal and portolio formation\n",
    "   - number of groups, i.e., the number of portfolios\n",
    "   - weighting scheme: equal weighted, market cap weighted, volume weighted\n",
    " \n",
    "The signal is the cumulative returns in the lookback windown\n",
    "   \n",
    "\n",
    "   \n",
    "The code should output the Sharpe ratio of the portfolio that goes long the top group (the one that in the top of the signal distribution) and shorts the bottom group (the one with stocks from the bottom of the signal distribution)\n",
    "\n",
    "\n",
    "TIP: the SR of a long-short is simply $mean(R^{longshort})/std(R^{longshort})$\n"
   ]
  },
  {
   "cell_type": "markdown",
   "metadata": {},
   "source": [
    "### 2. \n",
    "\n",
    "We will now show that the code works. Do a for loop, where you skip one month (and not two!), and you grow the lookback period from 1 to 60 months. Record the Sharpe Ratio for each of these lookbacks. Plot the SR of the long-short as a function of the lookback. \n",
    "\n",
    "Discuss what you found.\n",
    "\n",
    "\n",
    "\n",
    "\n",
    "\n"
   ]
  },
  {
   "cell_type": "markdown",
   "metadata": {},
   "source": [
    "### 3. \n",
    "\n",
    "Repeat what you did in 2, but now skipping 2 months\n",
    "\n",
    "Discuss what you found.\n",
    "\n"
   ]
  },
  {
   "cell_type": "markdown",
   "metadata": {},
   "source": [
    "### 4. \n",
    "\n",
    "Do a for loop, where you do the standard momentum strateg(lookback 10, skip 2) using the following number of groups:  2,3,5,10,20, and 50 . Record the Sharpe Ratio for each of these. Plot the SR as a function of the number of groups. \n",
    "\n",
    "Discuss what you found.\n",
    "\n"
   ]
  },
  {
   "cell_type": "markdown",
   "metadata": {},
   "source": [
    "### 5. \n",
    "\n",
    "Show that your code works, by doing a for loop, where you do the standard momentum strategy using all the three weighting schemes (EW, Value weighted and Volume weighted). Record and plot the Sharpe ratio\n",
    "\n",
    "Discuss what you found.\n",
    "\n"
   ]
  },
  {
   "cell_type": "markdown",
   "metadata": {},
   "source": [
    "### 6. \n",
    "\n",
    "We will now estimate market betas for thestandard value weighted momentum strategy\n",
    "\n",
    "a) Now import also the market portfolio from the same monthlyfactors data set and merge with the \n",
    "\n",
    "use the market factor in this data set 'https://www.dropbox.com/s/9346pp2iu5prv8s/MonthlyFactors.csv?dl=1', which is also in blackboard to compute the SR.\n",
    "\n",
    "    - To do that you will need to first construct your portfolios (so you have a time-series of returns for each), and then in the end, once you have the different portfolios in the columns and the dates in the rows, you will merge on date with the data frame that has the risk-free rate\n",
    "    -It is very important that you import the monthly factors data set correctly for the merge to work\n",
    "    - We have done that multiple times by now. \n",
    "    -also recall to divide the returns in this data set  by 100 so it is in the same units as out returns\n",
    "    - To make your life easier...\n",
    "```\n",
    "url = \"https://www.dropbox.com/s/9346pp2iu5prv8s/MonthlyFactors.csv?dl=1\"\n",
    "Factors = pd.read_csv(url,index_col=0, parse_dates=True,na_values=-99)\n",
    "Factors=Factors/100\n",
    "```\n",
    "\n",
    "b) Now merge you long-short momentum portfolio with the market factor (which should be an excess return)\n",
    "\n",
    "c) we will now construct the market betas of these momentum portfolios.\n",
    "\n",
    "  - You can do this by using a stats package such as :https://www.statsmodels.org/stable/index.html, wich we will learn how to use next week and I know that you already have use in the stats class\n",
    "  \n",
    "  - Or you can do this old school by simply computing the covariance or each portfolio with the market (all in excess returns), and divide it by the market variance.\n",
    "  \n",
    "  - There are several ways of doign this. The easiest is to do a for loop that loops across your portfolios\n",
    "\n",
    "\n",
    "d) Discuss what you find\n",
    "\n",
    "\n"
   ]
  },
  {
   "cell_type": "code",
   "execution_count": null,
   "metadata": {},
   "outputs": [],
   "source": []
  }
 ],
 "metadata": {
  "kernelspec": {
   "display_name": "Python 3",
   "language": "python",
   "name": "python3"
  },
  "language_info": {
   "codemirror_mode": {
    "name": "ipython",
    "version": 3
   },
   "file_extension": ".py",
   "mimetype": "text/x-python",
   "name": "python",
   "nbconvert_exporter": "python",
   "pygments_lexer": "ipython3",
   "version": "3.8.3"
  }
 },
 "nbformat": 4,
 "nbformat_minor": 2
}
