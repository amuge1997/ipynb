{
 "cells": [
  {
   "cell_type": "markdown",
   "metadata": {},
   "source": [
    "# 决策树练习"
   ]
  },
  {
   "cell_type": "markdown",
   "metadata": {},
   "source": [
    "这次练习中，我们将使用葡萄酒质量数据集。该数据集包含葡萄酒的各种化学性质，如酸度、糖分、PH值和酒精含量等，还包括两列分别表示葡萄酒的质量（3-9，越高越好）和酒的颜色（红或者白）。数据保存在`Wine_Quality_Data.csv`文件中。"
   ]
  },
  {
   "cell_type": "markdown",
   "metadata": {
    "collapsed": true
   },
   "source": [
    "### 绘制决策树的软件要求\n",
    "\n",
    "* 需要预先安装Graphviz,并把Graphviz安装目录下的bin目录加入到系统变量PATH中；\n",
    "* 用Anaconda安装pydotplus：在Anaconda Prompt中，运行conda install pydotplus"
   ]
  },
  {
   "cell_type": "markdown",
   "metadata": {},
   "source": [
    "## 第一步：\n",
    "\n",
    "* 导入数据并检查特征的类型\n",
    "* 使用所有特征预测 `color` (white 或者 red)，但是颜色特征需要编码成整数"
   ]
  },
  {
   "cell_type": "code",
   "execution_count": 1,
   "metadata": {
    "ExecuteTime": {
     "end_time": "2017-05-09T23:59:21.203609Z",
     "start_time": "2017-05-09T23:59:20.517816Z"
    }
   },
   "outputs": [],
   "source": [
    "# 读入数据\n",
    "import pandas as pd\n",
    "url = 'Wine_Quality_Data.csv'\n",
    "wine = pd.read_csv(url)"
   ]
  },
  {
   "cell_type": "code",
   "execution_count": 2,
   "metadata": {},
   "outputs": [
    {
     "data": {
      "text/plain": [
       "(6497, 13)"
      ]
     },
     "execution_count": 2,
     "metadata": {},
     "output_type": "execute_result"
    }
   ],
   "source": [
    "wine.shape"
   ]
  },
  {
   "cell_type": "code",
   "execution_count": 3,
   "metadata": {},
   "outputs": [
    {
     "data": {
      "text/plain": [
       "pandas.core.frame.DataFrame"
      ]
     },
     "execution_count": 3,
     "metadata": {},
     "output_type": "execute_result"
    }
   ],
   "source": [
    "# 检查特征的数据类型\n",
    "type(wine)"
   ]
  },
  {
   "cell_type": "code",
   "execution_count": 4,
   "metadata": {
    "ExecuteTime": {
     "end_time": "2017-05-09T23:59:21.265375Z",
     "start_time": "2017-05-09T23:59:21.255260Z"
    }
   },
   "outputs": [],
   "source": [
    "# 把color特征值转换成整数（如'white'是0, 'red'是1）\n",
    "wine.color = wine.color.map({'white':0,'red':1})"
   ]
  },
  {
   "cell_type": "markdown",
   "metadata": {},
   "source": [
    "## 第二步：\n",
    "\n",
    "* 生成X和y（使用除'color'外的全部特征列做X，‘color'列做y）\n",
    "* 划分训练集和测试集，使得测试集中包含1000条数据\n",
    "* 分别检查测试集和训练集中不同类别的样例的个数"
   ]
  },
  {
   "cell_type": "code",
   "execution_count": 5,
   "metadata": {
    "ExecuteTime": {
     "end_time": "2017-05-09T23:59:21.274460Z",
     "start_time": "2017-05-09T23:59:21.270038Z"
    }
   },
   "outputs": [],
   "source": [
    "# 生成X和y\n",
    "X = wine[wine.columns[:-1]]\n",
    "y = wine.color"
   ]
  },
  {
   "cell_type": "code",
   "execution_count": 6,
   "metadata": {
    "ExecuteTime": {
     "end_time": "2017-05-09T23:59:21.627973Z",
     "start_time": "2017-05-09T23:59:21.283564Z"
    }
   },
   "outputs": [],
   "source": [
    "# 划分训练集和测试集，使得测试集中包含1000条数据\n",
    "from sklearn.model_selection import train_test_split\n",
    "X_train,X_test,y_train,y_test=train_test_split(X,y,test_size=0.1539)"
   ]
  },
  {
   "cell_type": "code",
   "execution_count": 7,
   "metadata": {},
   "outputs": [
    {
     "data": {
      "text/plain": [
       "(5497, 12)"
      ]
     },
     "execution_count": 7,
     "metadata": {},
     "output_type": "execute_result"
    }
   ],
   "source": [
    "# 分别检查测试集和训练集中不同类别的样例的个数\n",
    "X_train.shape"
   ]
  },
  {
   "cell_type": "code",
   "execution_count": 8,
   "metadata": {},
   "outputs": [
    {
     "data": {
      "text/plain": [
       "(1000, 12)"
      ]
     },
     "execution_count": 8,
     "metadata": {},
     "output_type": "execute_result"
    }
   ],
   "source": [
    "X_test.shape"
   ]
  },
  {
   "cell_type": "markdown",
   "metadata": {},
   "source": [
    "## 第三步：\n",
    "\n",
    "* 在训练集上训练一个没有对树的最大深度、特征及叶子节点等方面有任何限制的决策树分类器\n",
    "* 绘制并显示决策树\n",
    "* 评价这棵树分别在训练数据和测试数据上的预测效果（精度、查全率、查准率、F1），并思考其现象"
   ]
  },
  {
   "cell_type": "code",
   "execution_count": 9,
   "metadata": {},
   "outputs": [],
   "source": [
    "from sklearn.tree import DecisionTreeClassifier\n",
    "import graphviz\n",
    "from sklearn import tree"
   ]
  },
  {
   "cell_type": "code",
   "execution_count": 13,
   "metadata": {
    "ExecuteTime": {
     "end_time": "2017-05-09T23:59:21.711217Z",
     "start_time": "2017-05-09T23:59:21.651488Z"
    }
   },
   "outputs": [
    {
     "ename": "SyntaxError",
     "evalue": "invalid syntax (<ipython-input-13-6122ec410a7a>, line 2)",
     "output_type": "error",
     "traceback": [
      "\u001b[1;36m  File \u001b[1;32m\"<ipython-input-13-6122ec410a7a>\"\u001b[1;36m, line \u001b[1;32m2\u001b[0m\n\u001b[1;33m    treeclf = DecisionTreeClassifier(criterion='gini’,splitter = 'best')\u001b[0m\n\u001b[1;37m                                                                  ^\u001b[0m\n\u001b[1;31mSyntaxError\u001b[0m\u001b[1;31m:\u001b[0m invalid syntax\n"
     ]
    }
   ],
   "source": [
    "# 在训练集上训练一个没有对树的最大深度、特征及叶子节点等方面有任何限制的决策树分类器\n",
    "treeclf = DecisionTreeClassifier(criterion='gini’,splitter = 'best')\n",
    "treeclf.fit(X,y)\n",
    "\n",
    "\n"
   ]
  },
  {
   "cell_type": "code",
   "execution_count": 14,
   "metadata": {
    "ExecuteTime": {
     "end_time": "2017-05-09T23:59:21.717346Z",
     "start_time": "2017-05-09T23:59:21.712743Z"
    }
   },
   "outputs": [
    {
     "ename": "NameError",
     "evalue": "name 'treeclf' is not defined",
     "output_type": "error",
     "traceback": [
      "\u001b[1;31m---------------------------------------------------------------------------\u001b[0m",
      "\u001b[1;31mNameError\u001b[0m                                 Traceback (most recent call last)",
      "\u001b[1;32m<ipython-input-14-a50a57739a22>\u001b[0m in \u001b[0;36m<module>\u001b[1;34m\u001b[0m\n\u001b[0;32m      1\u001b[0m \u001b[1;31m# 绘制并显示决策树\u001b[0m\u001b[1;33m\u001b[0m\u001b[1;33m\u001b[0m\u001b[1;33m\u001b[0m\u001b[0m\n\u001b[0;32m      2\u001b[0m \u001b[1;32mimport\u001b[0m \u001b[0mmatplotlib\u001b[0m\u001b[1;33m.\u001b[0m\u001b[0mpyplot\u001b[0m \u001b[1;32mas\u001b[0m \u001b[0mplt\u001b[0m\u001b[1;33m\u001b[0m\u001b[1;33m\u001b[0m\u001b[0m\n\u001b[1;32m----> 3\u001b[1;33m \u001b[0my_predict\u001b[0m \u001b[1;33m=\u001b[0m \u001b[0mtreeclf\u001b[0m\u001b[1;33m.\u001b[0m\u001b[0mpredict\u001b[0m\u001b[1;33m(\u001b[0m\u001b[0mX_test\u001b[0m\u001b[1;33m)\u001b[0m\u001b[1;33m\u001b[0m\u001b[1;33m\u001b[0m\u001b[0m\n\u001b[0m\u001b[0;32m      4\u001b[0m \u001b[0mplt\u001b[0m\u001b[1;33m.\u001b[0m\u001b[0mplot\u001b[0m\u001b[1;33m(\u001b[0m\u001b[0mX_test\u001b[0m\u001b[1;33m,\u001b[0m\u001b[0my_predict\u001b[0m\u001b[1;33m)\u001b[0m\u001b[1;33m\u001b[0m\u001b[1;33m\u001b[0m\u001b[0m\n",
      "\u001b[1;31mNameError\u001b[0m: name 'treeclf' is not defined"
     ]
    }
   ],
   "source": [
    "# 绘制并显示决策树\n",
    "import matplotlib.pyplot as plt\n",
    "y_predict = treeclf.predict(X_test)\n",
    "plt.plot(X_test,y_predict)"
   ]
  },
  {
   "cell_type": "code",
   "execution_count": 63,
   "metadata": {
    "ExecuteTime": {
     "end_time": "2017-05-09T23:59:21.730535Z",
     "start_time": "2017-05-09T23:59:21.723077Z"
    }
   },
   "outputs": [],
   "source": [
    "# 评价这棵树分别在训练数据和测试数据上的预测效果\n"
   ]
  },
  {
   "cell_type": "markdown",
   "metadata": {},
   "source": [
    "## 第四步：\n",
    "\n",
    "* 使用带交叉验证的网格搜索（调节'max_depth'和‘max_feature'两个参数，并使用'accuracy’为评价指标），得到一个更好的决策树分类器。\n",
    "* 绘制并显示新的决策树\n",
    "* 评价这棵树分别在训练数据和测试数据上的预测效果（精度、查全率、查准率、F1），并和第三步的结果比较"
   ]
  },
  {
   "cell_type": "code",
   "execution_count": null,
   "metadata": {
    "ExecuteTime": {
     "end_time": "2017-05-09T23:59:24.274020Z",
     "start_time": "2017-05-09T23:59:21.753343Z"
    }
   },
   "outputs": [],
   "source": [
    "# 使用带交叉验证的网格搜索，得到一个更好的决策树分类器。\n"
   ]
  },
  {
   "cell_type": "code",
   "execution_count": null,
   "metadata": {
    "ExecuteTime": {
     "end_time": "2017-05-09T23:59:24.280804Z",
     "start_time": "2017-05-09T23:59:24.275977Z"
    }
   },
   "outputs": [],
   "source": [
    "# 绘制并显示新的决策树\n"
   ]
  },
  {
   "cell_type": "code",
   "execution_count": null,
   "metadata": {
    "ExecuteTime": {
     "end_time": "2017-05-09T23:59:24.295309Z",
     "start_time": "2017-05-09T23:59:24.282493Z"
    }
   },
   "outputs": [],
   "source": [
    "# 评价这棵树分别在训练数据和测试数据上的预测效果\n"
   ]
  },
  {
   "cell_type": "markdown",
   "metadata": {},
   "source": [
    "## 第五步：\n",
    "\n",
    "* 重新生成X和y，使用`residual_sugar`列做y，用其他列做X\n",
    "* 划分训练集和测试集\n",
    "* 使用带交叉验证的网格搜索，找到一个最优的决策回归树模型\n",
    "* 评价其在训练和测试数据上的预测效果（均方误差）\n",
    "* 将测试数据上的真实residual_sugar值和预测的值绘制成一个线图"
   ]
  },
  {
   "cell_type": "code",
   "execution_count": null,
   "metadata": {
    "ExecuteTime": {
     "end_time": "2017-05-09T23:59:24.317443Z",
     "start_time": "2017-05-09T23:59:24.305043Z"
    }
   },
   "outputs": [],
   "source": [
    "# 重新生成X和y，使用residual_sugar列做y，用其他列做X\n"
   ]
  },
  {
   "cell_type": "code",
   "execution_count": null,
   "metadata": {
    "ExecuteTime": {
     "end_time": "2017-05-09T23:59:28.931614Z",
     "start_time": "2017-05-09T23:59:24.318919Z"
    }
   },
   "outputs": [],
   "source": [
    "#  划分训练集和测试集\n"
   ]
  },
  {
   "cell_type": "code",
   "execution_count": null,
   "metadata": {
    "ExecuteTime": {
     "end_time": "2017-05-09T23:59:28.941182Z",
     "start_time": "2017-05-09T23:59:28.933876Z"
    }
   },
   "outputs": [],
   "source": [
    "#  使用带交叉验证的网格搜索，找到一个最优的决策回归树模型\n"
   ]
  },
  {
   "cell_type": "code",
   "execution_count": null,
   "metadata": {
    "ExecuteTime": {
     "end_time": "2017-05-09T23:59:28.962134Z",
     "start_time": "2017-05-09T23:59:28.943461Z"
    }
   },
   "outputs": [],
   "source": [
    "# 评价其在训练和测试数据上的预测效果（均方误差）\n"
   ]
  },
  {
   "cell_type": "code",
   "execution_count": null,
   "metadata": {
    "ExecuteTime": {
     "end_time": "2017-05-09T23:59:29.172915Z",
     "start_time": "2017-05-09T23:59:28.964448Z"
    }
   },
   "outputs": [],
   "source": [
    "#  将测试数据上的真实residual_sugar值和预测的值绘制成一个线图\n"
   ]
  }
 ],
 "metadata": {
  "kernelspec": {
   "display_name": "Python 3",
   "language": "python",
   "name": "python3"
  },
  "language_info": {
   "codemirror_mode": {
    "name": "ipython",
    "version": 3
   },
   "file_extension": ".py",
   "mimetype": "text/x-python",
   "name": "python",
   "nbconvert_exporter": "python",
   "pygments_lexer": "ipython3",
   "version": "3.8.3"
  }
 },
 "nbformat": 4,
 "nbformat_minor": 2
}
